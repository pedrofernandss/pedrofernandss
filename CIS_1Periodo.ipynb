{
  "nbformat": 4,
  "nbformat_minor": 0,
  "metadata": {
    "colab": {
      "provenance": [],
      "toc_visible": true,
      "authorship_tag": "ABX9TyM93q5BgcSBT3za8MQC4ZdH",
      "include_colab_link": true
    },
    "kernelspec": {
      "name": "python3",
      "display_name": "Python 3"
    },
    "language_info": {
      "name": "python"
    }
  },
  "cells": [
    {
      "cell_type": "markdown",
      "metadata": {
        "id": "view-in-github",
        "colab_type": "text"
      },
      "source": [
        "<a href=\"https://colab.research.google.com/github/pedrofernandss/pedrofernandss/blob/main/CIS_1Periodo.ipynb\" target=\"_parent\"><img src=\"https://colab.research.google.com/assets/colab-badge.svg\" alt=\"Open In Colab\"/></a>"
      ]
    },
    {
      "cell_type": "code",
      "execution_count": 1,
      "metadata": {
        "id": "ipYsL9V9PPIs"
      },
      "outputs": [],
      "source": [
        "#Importando bibliotecas\n",
        "import pandas as pd\n",
        "import numpy as np\n",
        "import matplotlib as plt\n",
        "import seaborn as sb"
      ]
    },
    {
      "cell_type": "code",
      "source": [
        "#Importando dados\n",
        "diabetes = pd.read_csv('')"
      ],
      "metadata": {
        "id": "jTZmBHdOPiLo"
      },
      "execution_count": null,
      "outputs": []
    }
  ]
}